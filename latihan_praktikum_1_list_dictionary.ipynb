{
  "nbformat": 4,
  "nbformat_minor": 0,
  "metadata": {
    "colab": {
      "provenance": [],
      "authorship_tag": "ABX9TyP9YhpKfpLdRBtkno5sNVOw",
      "include_colab_link": true
    },
    "kernelspec": {
      "name": "python3",
      "display_name": "Python 3"
    },
    "language_info": {
      "name": "python"
    }
  },
  "cells": [
    {
      "cell_type": "markdown",
      "metadata": {
        "id": "view-in-github",
        "colab_type": "text"
      },
      "source": [
        "<a href=\"https://colab.research.google.com/github/dimasnurmiraj/221230053-Pengantar-ML/blob/main/latihan_praktikum_1_list_dictionary.ipynb\" target=\"_parent\"><img src=\"https://colab.research.google.com/assets/colab-badge.svg\" alt=\"Open In Colab\"/></a>"
      ]
    },
    {
      "cell_type": "code",
      "source": [
        "# OPERASI LIST\n",
        "# Data mentah dari sensor\n",
        "raw_data = [23.5, 24.1, 22.8, 25.3, 21.9, 26.7, 20.5, 24.8, 23.2, 25.9]\n",
        "\n",
        "# 1. Filter data range 22-25\n",
        "filtered_data = [x for x in raw_data if 22 <= x <= 25]\n",
        "\n",
        "# 2. Normalisasi data ke range 0-1 (min-max scaling) dengan 3 angka belakang koma\n",
        "min_val, max_val = min(raw_data), max(raw_data)\n",
        "normalized_data = [round((x - min_val) / (max_val - min_val), 3) for x in raw_data]\n",
        "\n",
        "# 3. Moving Average dengan window = 3 dan hasil dibulatkan 3 angka belakang koma\n",
        "def moving_average(data, window_size):\n",
        "    result = []\n",
        "    for i in range(len(data) - window_size + 1):\n",
        "        window = data[i:i+window_size]\n",
        "        avg = round(sum(window) / window_size, 3)\n",
        "        result.append(avg)\n",
        "    return result\n",
        "\n",
        "ma_result = moving_average(raw_data, 3)\n",
        "\n",
        "# Output\n",
        "print(\"📌 OPERASI LIST\")\n",
        "print(\"Filtered Data:\", filtered_data)\n",
        "print(\"Normalized Data:\", normalized_data)\n",
        "print(\"Moving Average (3):\", ma_result)\n"
      ],
      "metadata": {
        "colab": {
          "base_uri": "https://localhost:8080/"
        },
        "id": "A79KDRgMzYec",
        "outputId": "0c7723a4-e852-4b49-db93-76062239c936"
      },
      "execution_count": null,
      "outputs": [
        {
          "output_type": "stream",
          "name": "stdout",
          "text": [
            "📌 OPERASI LIST\n",
            "Filtered Data: [23.5, 24.1, 22.8, 24.8, 23.2]\n",
            "Normalized Data: [0.484, 0.581, 0.371, 0.774, 0.226, 1.0, 0.0, 0.694, 0.435, 0.871]\n",
            "Moving Average (3): [23.467, 24.067, 23.333, 24.633, 23.033, 24.0, 22.833, 24.633]\n"
          ]
        }
      ]
    },
    {
      "cell_type": "code",
      "source": [
        "# OPERASI DICTIONARY\n",
        "# Dataset contoh\n",
        "dataset = [\n",
        "    {'features': [1.2, 3.4, 2.1], 'label': 'class_A'},\n",
        "    {'features': [2.3, 1.5, 4.2], 'label': 'class_B'},\n",
        "    {'features': [3.1, 2.8, 1.9], 'label': 'class_A'},\n",
        "    {'features': [4.2, 3.9, 2.5], 'label': 'class_B'}\n",
        "]\n",
        "\n",
        "# 4. Kelompokkan data berdasarkan label\n",
        "def group_by_label(data):\n",
        "    grouped = {}\n",
        "    for item in data:\n",
        "        label = item['label']\n",
        "        features = item['features']\n",
        "        if label not in grouped:\n",
        "            grouped[label] = []\n",
        "        grouped[label].append(features)\n",
        "    return grouped\n",
        "\n",
        "grouped_data = group_by_label(dataset)\n",
        "\n",
        "# 5. Hitung rata-rata features per kelas\n",
        "def average_features_per_class(grouped_data):\n",
        "    avg_result = {}\n",
        "    for label, features_list in grouped_data.items():\n",
        "        transposed = list(zip(*features_list))\n",
        "        avg_features = [sum(col)/len(col) for col in transposed]\n",
        "        avg_result[label] = avg_features\n",
        "    return avg_result\n",
        "\n",
        "avg_features = average_features_per_class(grouped_data)\n",
        "\n",
        "# Output\n",
        "print(\"\\n📌 OPERASI DICTIONARY\")\n",
        "print(\"Grouped Data:\", grouped_data)\n",
        "print(\"Average Features per Class:\", avg_features)\n"
      ],
      "metadata": {
        "colab": {
          "base_uri": "https://localhost:8080/"
        },
        "id": "h_bJrUDr0xvJ",
        "outputId": "cdb4e407-e873-4b69-939f-0140981acaa2"
      },
      "execution_count": null,
      "outputs": [
        {
          "output_type": "stream",
          "name": "stdout",
          "text": [
            "\n",
            "📌 OPERASI DICTIONARY\n",
            "Grouped Data: {'class_A': [[1.2, 3.4, 2.1], [3.1, 2.8, 1.9]], 'class_B': [[2.3, 1.5, 4.2], [4.2, 3.9, 2.5]]}\n",
            "Average Features per Class: {'class_A': [2.15, 3.0999999999999996, 2.0], 'class_B': [3.25, 2.7, 3.35]}\n"
          ]
        }
      ]
    }
  ]
}